{
 "cells": [
  {
   "cell_type": "code",
   "execution_count": 1,
   "metadata": {},
   "outputs": [],
   "source": [
    "import pickle\n",
    "import pandas as pd\n",
    "import pandas as pd\n",
    "import numpy as np\n",
    "import sklearn as sk\n",
    "import datetime as dt\n",
    "import pickle\n",
    "import matplotlib.pyplot as plt\n",
    "from sklearn.feature_extraction import DictVectorizer\n",
    "from sklearn.linear_model import LinearRegression\n",
    "from sklearn.linear_model import Lasso\n",
    "from sklearn.linear_model import Ridge\n",
    "from sklearn.metrics import mean_squared_error\n",
    "import seaborn as sns\n",
    "import matplotlib.pyplot as plt"
   ]
  },
  {
   "cell_type": "code",
   "execution_count": 10,
   "metadata": {},
   "outputs": [],
   "source": [
    "year = 2021\n",
    "month = 3\n",
    "taxi_type = 'fhv'"
   ]
  },
  {
   "cell_type": "code",
   "execution_count": 7,
   "metadata": {},
   "outputs": [
    {
     "name": "stderr",
     "output_type": "stream",
     "text": [
      "/opt/anaconda3/envs/exp-tracking-env/lib/python3.9/site-packages/sklearn/base.py:329: UserWarning: Trying to unpickle estimator DictVectorizer from version 1.0.2 when using version 1.1.1. This might lead to breaking code or invalid results. Use at your own risk. For more info please refer to:\n",
      "https://scikit-learn.org/stable/model_persistence.html#security-maintainability-limitations\n",
      "  warnings.warn(\n",
      "/opt/anaconda3/envs/exp-tracking-env/lib/python3.9/site-packages/sklearn/base.py:329: UserWarning: Trying to unpickle estimator LinearRegression from version 1.0.2 when using version 1.1.1. This might lead to breaking code or invalid results. Use at your own risk. For more info please refer to:\n",
      "https://scikit-learn.org/stable/model_persistence.html#security-maintainability-limitations\n",
      "  warnings.warn(\n"
     ]
    }
   ],
   "source": [
    "with open('model.bin', 'rb') as f_in:\n",
    "    dv, lr = pickle.load(f_in)"
   ]
  },
  {
   "cell_type": "code",
   "execution_count": 8,
   "metadata": {},
   "outputs": [],
   "source": [
    "categorical = ['PUlocationID', 'DOlocationID']\n",
    "\n",
    "def read_data(filename):\n",
    "    df = pd.read_parquet(filename)\n",
    "    \n",
    "    df['duration'] = df.dropOff_datetime - df.pickup_datetime\n",
    "    df['duration'] = df.duration.dt.total_seconds() / 60\n",
    "\n",
    "    df = df[(df.duration >= 1) & (df.duration <= 60)].copy()\n",
    "\n",
    "    df[categorical] = df[categorical].fillna(-1).astype('int').astype('str')\n",
    "    \n",
    "    return df"
   ]
  },
  {
   "cell_type": "code",
   "execution_count": 13,
   "metadata": {},
   "outputs": [
    {
     "ename": "FileNotFoundError",
     "evalue": "[Errno 2] No such file or directory: '/Users/agvg/Documents/DS/MLOPS/MLOPS/Class 4/{taxi_type}_tripdata_{year}-{month:02d}.parquet'",
     "output_type": "error",
     "traceback": [
      "\u001b[0;31m---------------------------------------------------------------------------\u001b[0m",
      "\u001b[0;31mFileNotFoundError\u001b[0m                         Traceback (most recent call last)",
      "\u001b[1;32m/Users/agvg/Documents/DS/MLOPS/MLOPS/Class 4/Homework4.ipynb Cell 5'\u001b[0m in \u001b[0;36m<cell line: 1>\u001b[0;34m()\u001b[0m\n\u001b[0;32m----> <a href='vscode-notebook-cell:/Users/agvg/Documents/DS/MLOPS/MLOPS/Class%204/Homework4.ipynb#ch0000004?line=0'>1</a>\u001b[0m df \u001b[39m=\u001b[39m read_data(\u001b[39m'\u001b[39;49m\u001b[39m/Users/agvg/Documents/DS/MLOPS/MLOPS/Class 4/\u001b[39;49m\u001b[39m{taxi_type}\u001b[39;49;00m\u001b[39m_tripdata_\u001b[39;49m\u001b[39m{year}\u001b[39;49;00m\u001b[39m-\u001b[39;49m\u001b[39m{month:02d}\u001b[39;49;00m\u001b[39m.parquet\u001b[39;49m\u001b[39m'\u001b[39;49m)\n",
      "\u001b[1;32m/Users/agvg/Documents/DS/MLOPS/MLOPS/Class 4/Homework4.ipynb Cell 4'\u001b[0m in \u001b[0;36mread_data\u001b[0;34m(filename)\u001b[0m\n\u001b[1;32m      <a href='vscode-notebook-cell:/Users/agvg/Documents/DS/MLOPS/MLOPS/Class%204/Homework4.ipynb#ch0000003?line=2'>3</a>\u001b[0m \u001b[39mdef\u001b[39;00m \u001b[39mread_data\u001b[39m(filename):\n\u001b[0;32m----> <a href='vscode-notebook-cell:/Users/agvg/Documents/DS/MLOPS/MLOPS/Class%204/Homework4.ipynb#ch0000003?line=3'>4</a>\u001b[0m     df \u001b[39m=\u001b[39m pd\u001b[39m.\u001b[39;49mread_parquet(filename)\n\u001b[1;32m      <a href='vscode-notebook-cell:/Users/agvg/Documents/DS/MLOPS/MLOPS/Class%204/Homework4.ipynb#ch0000003?line=5'>6</a>\u001b[0m     df[\u001b[39m'\u001b[39m\u001b[39mduration\u001b[39m\u001b[39m'\u001b[39m] \u001b[39m=\u001b[39m df\u001b[39m.\u001b[39mdropOff_datetime \u001b[39m-\u001b[39m df\u001b[39m.\u001b[39mpickup_datetime\n\u001b[1;32m      <a href='vscode-notebook-cell:/Users/agvg/Documents/DS/MLOPS/MLOPS/Class%204/Homework4.ipynb#ch0000003?line=6'>7</a>\u001b[0m     df[\u001b[39m'\u001b[39m\u001b[39mduration\u001b[39m\u001b[39m'\u001b[39m] \u001b[39m=\u001b[39m df\u001b[39m.\u001b[39mduration\u001b[39m.\u001b[39mdt\u001b[39m.\u001b[39mtotal_seconds() \u001b[39m/\u001b[39m \u001b[39m60\u001b[39m\n",
      "File \u001b[0;32m/opt/anaconda3/envs/exp-tracking-env/lib/python3.9/site-packages/pandas/io/parquet.py:493\u001b[0m, in \u001b[0;36mread_parquet\u001b[0;34m(path, engine, columns, storage_options, use_nullable_dtypes, **kwargs)\u001b[0m\n\u001b[1;32m    <a href='file:///opt/anaconda3/envs/exp-tracking-env/lib/python3.9/site-packages/pandas/io/parquet.py?line=445'>446</a>\u001b[0m \u001b[39m\"\"\"\u001b[39;00m\n\u001b[1;32m    <a href='file:///opt/anaconda3/envs/exp-tracking-env/lib/python3.9/site-packages/pandas/io/parquet.py?line=446'>447</a>\u001b[0m \u001b[39mLoad a parquet object from the file path, returning a DataFrame.\u001b[39;00m\n\u001b[1;32m    <a href='file:///opt/anaconda3/envs/exp-tracking-env/lib/python3.9/site-packages/pandas/io/parquet.py?line=447'>448</a>\u001b[0m \n\u001b[0;32m   (...)\u001b[0m\n\u001b[1;32m    <a href='file:///opt/anaconda3/envs/exp-tracking-env/lib/python3.9/site-packages/pandas/io/parquet.py?line=488'>489</a>\u001b[0m \u001b[39mDataFrame\u001b[39;00m\n\u001b[1;32m    <a href='file:///opt/anaconda3/envs/exp-tracking-env/lib/python3.9/site-packages/pandas/io/parquet.py?line=489'>490</a>\u001b[0m \u001b[39m\"\"\"\u001b[39;00m\n\u001b[1;32m    <a href='file:///opt/anaconda3/envs/exp-tracking-env/lib/python3.9/site-packages/pandas/io/parquet.py?line=490'>491</a>\u001b[0m impl \u001b[39m=\u001b[39m get_engine(engine)\n\u001b[0;32m--> <a href='file:///opt/anaconda3/envs/exp-tracking-env/lib/python3.9/site-packages/pandas/io/parquet.py?line=492'>493</a>\u001b[0m \u001b[39mreturn\u001b[39;00m impl\u001b[39m.\u001b[39;49mread(\n\u001b[1;32m    <a href='file:///opt/anaconda3/envs/exp-tracking-env/lib/python3.9/site-packages/pandas/io/parquet.py?line=493'>494</a>\u001b[0m     path,\n\u001b[1;32m    <a href='file:///opt/anaconda3/envs/exp-tracking-env/lib/python3.9/site-packages/pandas/io/parquet.py?line=494'>495</a>\u001b[0m     columns\u001b[39m=\u001b[39;49mcolumns,\n\u001b[1;32m    <a href='file:///opt/anaconda3/envs/exp-tracking-env/lib/python3.9/site-packages/pandas/io/parquet.py?line=495'>496</a>\u001b[0m     storage_options\u001b[39m=\u001b[39;49mstorage_options,\n\u001b[1;32m    <a href='file:///opt/anaconda3/envs/exp-tracking-env/lib/python3.9/site-packages/pandas/io/parquet.py?line=496'>497</a>\u001b[0m     use_nullable_dtypes\u001b[39m=\u001b[39;49muse_nullable_dtypes,\n\u001b[1;32m    <a href='file:///opt/anaconda3/envs/exp-tracking-env/lib/python3.9/site-packages/pandas/io/parquet.py?line=497'>498</a>\u001b[0m     \u001b[39m*\u001b[39;49m\u001b[39m*\u001b[39;49mkwargs,\n\u001b[1;32m    <a href='file:///opt/anaconda3/envs/exp-tracking-env/lib/python3.9/site-packages/pandas/io/parquet.py?line=498'>499</a>\u001b[0m )\n",
      "File \u001b[0;32m/opt/anaconda3/envs/exp-tracking-env/lib/python3.9/site-packages/pandas/io/parquet.py:233\u001b[0m, in \u001b[0;36mPyArrowImpl.read\u001b[0;34m(self, path, columns, use_nullable_dtypes, storage_options, **kwargs)\u001b[0m\n\u001b[1;32m    <a href='file:///opt/anaconda3/envs/exp-tracking-env/lib/python3.9/site-packages/pandas/io/parquet.py?line=229'>230</a>\u001b[0m \u001b[39mif\u001b[39;00m manager \u001b[39m==\u001b[39m \u001b[39m\"\u001b[39m\u001b[39marray\u001b[39m\u001b[39m\"\u001b[39m:\n\u001b[1;32m    <a href='file:///opt/anaconda3/envs/exp-tracking-env/lib/python3.9/site-packages/pandas/io/parquet.py?line=230'>231</a>\u001b[0m     to_pandas_kwargs[\u001b[39m\"\u001b[39m\u001b[39msplit_blocks\u001b[39m\u001b[39m\"\u001b[39m] \u001b[39m=\u001b[39m \u001b[39mTrue\u001b[39;00m  \u001b[39m# type: ignore[assignment]\u001b[39;00m\n\u001b[0;32m--> <a href='file:///opt/anaconda3/envs/exp-tracking-env/lib/python3.9/site-packages/pandas/io/parquet.py?line=232'>233</a>\u001b[0m path_or_handle, handles, kwargs[\u001b[39m\"\u001b[39m\u001b[39mfilesystem\u001b[39m\u001b[39m\"\u001b[39m] \u001b[39m=\u001b[39m _get_path_or_handle(\n\u001b[1;32m    <a href='file:///opt/anaconda3/envs/exp-tracking-env/lib/python3.9/site-packages/pandas/io/parquet.py?line=233'>234</a>\u001b[0m     path,\n\u001b[1;32m    <a href='file:///opt/anaconda3/envs/exp-tracking-env/lib/python3.9/site-packages/pandas/io/parquet.py?line=234'>235</a>\u001b[0m     kwargs\u001b[39m.\u001b[39;49mpop(\u001b[39m\"\u001b[39;49m\u001b[39mfilesystem\u001b[39;49m\u001b[39m\"\u001b[39;49m, \u001b[39mNone\u001b[39;49;00m),\n\u001b[1;32m    <a href='file:///opt/anaconda3/envs/exp-tracking-env/lib/python3.9/site-packages/pandas/io/parquet.py?line=235'>236</a>\u001b[0m     storage_options\u001b[39m=\u001b[39;49mstorage_options,\n\u001b[1;32m    <a href='file:///opt/anaconda3/envs/exp-tracking-env/lib/python3.9/site-packages/pandas/io/parquet.py?line=236'>237</a>\u001b[0m     mode\u001b[39m=\u001b[39;49m\u001b[39m\"\u001b[39;49m\u001b[39mrb\u001b[39;49m\u001b[39m\"\u001b[39;49m,\n\u001b[1;32m    <a href='file:///opt/anaconda3/envs/exp-tracking-env/lib/python3.9/site-packages/pandas/io/parquet.py?line=237'>238</a>\u001b[0m )\n\u001b[1;32m    <a href='file:///opt/anaconda3/envs/exp-tracking-env/lib/python3.9/site-packages/pandas/io/parquet.py?line=238'>239</a>\u001b[0m \u001b[39mtry\u001b[39;00m:\n\u001b[1;32m    <a href='file:///opt/anaconda3/envs/exp-tracking-env/lib/python3.9/site-packages/pandas/io/parquet.py?line=239'>240</a>\u001b[0m     result \u001b[39m=\u001b[39m \u001b[39mself\u001b[39m\u001b[39m.\u001b[39mapi\u001b[39m.\u001b[39mparquet\u001b[39m.\u001b[39mread_table(\n\u001b[1;32m    <a href='file:///opt/anaconda3/envs/exp-tracking-env/lib/python3.9/site-packages/pandas/io/parquet.py?line=240'>241</a>\u001b[0m         path_or_handle, columns\u001b[39m=\u001b[39mcolumns, \u001b[39m*\u001b[39m\u001b[39m*\u001b[39mkwargs\n\u001b[1;32m    <a href='file:///opt/anaconda3/envs/exp-tracking-env/lib/python3.9/site-packages/pandas/io/parquet.py?line=241'>242</a>\u001b[0m     )\u001b[39m.\u001b[39mto_pandas(\u001b[39m*\u001b[39m\u001b[39m*\u001b[39mto_pandas_kwargs)\n",
      "File \u001b[0;32m/opt/anaconda3/envs/exp-tracking-env/lib/python3.9/site-packages/pandas/io/parquet.py:102\u001b[0m, in \u001b[0;36m_get_path_or_handle\u001b[0;34m(path, fs, storage_options, mode, is_dir)\u001b[0m\n\u001b[1;32m     <a href='file:///opt/anaconda3/envs/exp-tracking-env/lib/python3.9/site-packages/pandas/io/parquet.py?line=91'>92</a>\u001b[0m handles \u001b[39m=\u001b[39m \u001b[39mNone\u001b[39;00m\n\u001b[1;32m     <a href='file:///opt/anaconda3/envs/exp-tracking-env/lib/python3.9/site-packages/pandas/io/parquet.py?line=92'>93</a>\u001b[0m \u001b[39mif\u001b[39;00m (\n\u001b[1;32m     <a href='file:///opt/anaconda3/envs/exp-tracking-env/lib/python3.9/site-packages/pandas/io/parquet.py?line=93'>94</a>\u001b[0m     \u001b[39mnot\u001b[39;00m fs\n\u001b[1;32m     <a href='file:///opt/anaconda3/envs/exp-tracking-env/lib/python3.9/site-packages/pandas/io/parquet.py?line=94'>95</a>\u001b[0m     \u001b[39mand\u001b[39;00m \u001b[39mnot\u001b[39;00m is_dir\n\u001b[0;32m   (...)\u001b[0m\n\u001b[1;32m    <a href='file:///opt/anaconda3/envs/exp-tracking-env/lib/python3.9/site-packages/pandas/io/parquet.py?line=99'>100</a>\u001b[0m     \u001b[39m# fsspec resources can also point to directories\u001b[39;00m\n\u001b[1;32m    <a href='file:///opt/anaconda3/envs/exp-tracking-env/lib/python3.9/site-packages/pandas/io/parquet.py?line=100'>101</a>\u001b[0m     \u001b[39m# this branch is used for example when reading from non-fsspec URLs\u001b[39;00m\n\u001b[0;32m--> <a href='file:///opt/anaconda3/envs/exp-tracking-env/lib/python3.9/site-packages/pandas/io/parquet.py?line=101'>102</a>\u001b[0m     handles \u001b[39m=\u001b[39m get_handle(\n\u001b[1;32m    <a href='file:///opt/anaconda3/envs/exp-tracking-env/lib/python3.9/site-packages/pandas/io/parquet.py?line=102'>103</a>\u001b[0m         path_or_handle, mode, is_text\u001b[39m=\u001b[39;49m\u001b[39mFalse\u001b[39;49;00m, storage_options\u001b[39m=\u001b[39;49mstorage_options\n\u001b[1;32m    <a href='file:///opt/anaconda3/envs/exp-tracking-env/lib/python3.9/site-packages/pandas/io/parquet.py?line=103'>104</a>\u001b[0m     )\n\u001b[1;32m    <a href='file:///opt/anaconda3/envs/exp-tracking-env/lib/python3.9/site-packages/pandas/io/parquet.py?line=104'>105</a>\u001b[0m     fs \u001b[39m=\u001b[39m \u001b[39mNone\u001b[39;00m\n\u001b[1;32m    <a href='file:///opt/anaconda3/envs/exp-tracking-env/lib/python3.9/site-packages/pandas/io/parquet.py?line=105'>106</a>\u001b[0m     path_or_handle \u001b[39m=\u001b[39m handles\u001b[39m.\u001b[39mhandle\n",
      "File \u001b[0;32m/opt/anaconda3/envs/exp-tracking-env/lib/python3.9/site-packages/pandas/io/common.py:798\u001b[0m, in \u001b[0;36mget_handle\u001b[0;34m(path_or_buf, mode, encoding, compression, memory_map, is_text, errors, storage_options)\u001b[0m\n\u001b[1;32m    <a href='file:///opt/anaconda3/envs/exp-tracking-env/lib/python3.9/site-packages/pandas/io/common.py?line=788'>789</a>\u001b[0m         handle \u001b[39m=\u001b[39m \u001b[39mopen\u001b[39m(\n\u001b[1;32m    <a href='file:///opt/anaconda3/envs/exp-tracking-env/lib/python3.9/site-packages/pandas/io/common.py?line=789'>790</a>\u001b[0m             handle,\n\u001b[1;32m    <a href='file:///opt/anaconda3/envs/exp-tracking-env/lib/python3.9/site-packages/pandas/io/common.py?line=790'>791</a>\u001b[0m             ioargs\u001b[39m.\u001b[39mmode,\n\u001b[0;32m   (...)\u001b[0m\n\u001b[1;32m    <a href='file:///opt/anaconda3/envs/exp-tracking-env/lib/python3.9/site-packages/pandas/io/common.py?line=793'>794</a>\u001b[0m             newline\u001b[39m=\u001b[39m\u001b[39m\"\u001b[39m\u001b[39m\"\u001b[39m,\n\u001b[1;32m    <a href='file:///opt/anaconda3/envs/exp-tracking-env/lib/python3.9/site-packages/pandas/io/common.py?line=794'>795</a>\u001b[0m         )\n\u001b[1;32m    <a href='file:///opt/anaconda3/envs/exp-tracking-env/lib/python3.9/site-packages/pandas/io/common.py?line=795'>796</a>\u001b[0m     \u001b[39melse\u001b[39;00m:\n\u001b[1;32m    <a href='file:///opt/anaconda3/envs/exp-tracking-env/lib/python3.9/site-packages/pandas/io/common.py?line=796'>797</a>\u001b[0m         \u001b[39m# Binary mode\u001b[39;00m\n\u001b[0;32m--> <a href='file:///opt/anaconda3/envs/exp-tracking-env/lib/python3.9/site-packages/pandas/io/common.py?line=797'>798</a>\u001b[0m         handle \u001b[39m=\u001b[39m \u001b[39mopen\u001b[39;49m(handle, ioargs\u001b[39m.\u001b[39;49mmode)\n\u001b[1;32m    <a href='file:///opt/anaconda3/envs/exp-tracking-env/lib/python3.9/site-packages/pandas/io/common.py?line=798'>799</a>\u001b[0m     handles\u001b[39m.\u001b[39mappend(handle)\n\u001b[1;32m    <a href='file:///opt/anaconda3/envs/exp-tracking-env/lib/python3.9/site-packages/pandas/io/common.py?line=800'>801</a>\u001b[0m \u001b[39m# Convert BytesIO or file objects passed with an encoding\u001b[39;00m\n",
      "\u001b[0;31mFileNotFoundError\u001b[0m: [Errno 2] No such file or directory: '/Users/agvg/Documents/DS/MLOPS/MLOPS/Class 4/{taxi_type}_tripdata_{year}-{month:02d}.parquet'"
     ]
    }
   ],
   "source": [
    "df = read_data('/Users/agvg/Documents/DS/MLOPS/MLOPS/Class 4/{taxi_type}_tripdata_{year}-{month}.parquet')"
   ]
  },
  {
   "cell_type": "markdown",
   "metadata": {},
   "source": [
    "Q1. Notebook"
   ]
  },
  {
   "cell_type": "code",
   "execution_count": 24,
   "metadata": {},
   "outputs": [
    {
     "name": "stdout",
     "output_type": "stream",
     "text": [
      "16.191691679979066\n"
     ]
    }
   ],
   "source": [
    "dicts = df[categorical].to_dict(orient='records')\n",
    "Xval = dv.transform(dicts)\n",
    "y_pred = lr.predict(Xval)\n",
    "mean_duration = y_pred.mean()\n",
    "print(mean_duration)"
   ]
  },
  {
   "cell_type": "markdown",
   "metadata": {},
   "source": [
    "Q2. PREPARING THE OUTPUT"
   ]
  },
  {
   "cell_type": "code",
   "execution_count": 25,
   "metadata": {},
   "outputs": [],
   "source": [
    "import uuid"
   ]
  },
  {
   "cell_type": "code",
   "execution_count": 26,
   "metadata": {},
   "outputs": [],
   "source": [
    "n = len(df)\n",
    "ride_ids = []\n",
    "for i in range(n):\n",
    "    ride_ids.append(str(uuid.uuid4()))"
   ]
  },
  {
   "cell_type": "code",
   "execution_count": 27,
   "metadata": {},
   "outputs": [],
   "source": [
    "df['ride_id'] = ride_ids"
   ]
  },
  {
   "cell_type": "code",
   "execution_count": 28,
   "metadata": {},
   "outputs": [
    {
     "data": {
      "text/html": [
       "<div>\n",
       "<style scoped>\n",
       "    .dataframe tbody tr th:only-of-type {\n",
       "        vertical-align: middle;\n",
       "    }\n",
       "\n",
       "    .dataframe tbody tr th {\n",
       "        vertical-align: top;\n",
       "    }\n",
       "\n",
       "    .dataframe thead th {\n",
       "        text-align: right;\n",
       "    }\n",
       "</style>\n",
       "<table border=\"1\" class=\"dataframe\">\n",
       "  <thead>\n",
       "    <tr style=\"text-align: right;\">\n",
       "      <th></th>\n",
       "      <th>dispatching_base_num</th>\n",
       "      <th>pickup_datetime</th>\n",
       "      <th>dropOff_datetime</th>\n",
       "      <th>PUlocationID</th>\n",
       "      <th>DOlocationID</th>\n",
       "      <th>SR_Flag</th>\n",
       "      <th>Affiliated_base_number</th>\n",
       "      <th>duration</th>\n",
       "      <th>ride_id</th>\n",
       "    </tr>\n",
       "  </thead>\n",
       "  <tbody>\n",
       "    <tr>\n",
       "      <th>1</th>\n",
       "      <td>B00021</td>\n",
       "      <td>2021-02-01 00:55:40</td>\n",
       "      <td>2021-02-01 01:06:20</td>\n",
       "      <td>173</td>\n",
       "      <td>82</td>\n",
       "      <td>None</td>\n",
       "      <td>B00021</td>\n",
       "      <td>10.666667</td>\n",
       "      <td>58838007-ee9e-4e65-bd4a-9c7225d30b81</td>\n",
       "    </tr>\n",
       "    <tr>\n",
       "      <th>2</th>\n",
       "      <td>B00021</td>\n",
       "      <td>2021-02-01 00:14:03</td>\n",
       "      <td>2021-02-01 00:28:37</td>\n",
       "      <td>173</td>\n",
       "      <td>56</td>\n",
       "      <td>None</td>\n",
       "      <td>B00021</td>\n",
       "      <td>14.566667</td>\n",
       "      <td>e901a694-6848-4b3d-92d7-5d80cc44defd</td>\n",
       "    </tr>\n",
       "    <tr>\n",
       "      <th>3</th>\n",
       "      <td>B00021</td>\n",
       "      <td>2021-02-01 00:27:48</td>\n",
       "      <td>2021-02-01 00:35:45</td>\n",
       "      <td>82</td>\n",
       "      <td>129</td>\n",
       "      <td>None</td>\n",
       "      <td>B00021</td>\n",
       "      <td>7.950000</td>\n",
       "      <td>6d4c53ae-4fae-443c-8ba2-eabfdd1f473f</td>\n",
       "    </tr>\n",
       "    <tr>\n",
       "      <th>4</th>\n",
       "      <td>B00037</td>\n",
       "      <td>2021-02-01 00:12:50</td>\n",
       "      <td>2021-02-01 00:26:38</td>\n",
       "      <td>-1</td>\n",
       "      <td>225</td>\n",
       "      <td>None</td>\n",
       "      <td>B00037</td>\n",
       "      <td>13.800000</td>\n",
       "      <td>124ffc84-89cd-41ed-b490-50853a734d3c</td>\n",
       "    </tr>\n",
       "    <tr>\n",
       "      <th>5</th>\n",
       "      <td>B00037</td>\n",
       "      <td>2021-02-01 00:00:37</td>\n",
       "      <td>2021-02-01 00:09:35</td>\n",
       "      <td>-1</td>\n",
       "      <td>61</td>\n",
       "      <td>None</td>\n",
       "      <td>B00037</td>\n",
       "      <td>8.966667</td>\n",
       "      <td>1a239d01-f064-4da5-906b-8a2e095109d4</td>\n",
       "    </tr>\n",
       "  </tbody>\n",
       "</table>\n",
       "</div>"
      ],
      "text/plain": [
       "  dispatching_base_num     pickup_datetime    dropOff_datetime PUlocationID  \\\n",
       "1      B00021          2021-02-01 00:55:40 2021-02-01 01:06:20          173   \n",
       "2      B00021          2021-02-01 00:14:03 2021-02-01 00:28:37          173   \n",
       "3      B00021          2021-02-01 00:27:48 2021-02-01 00:35:45           82   \n",
       "4               B00037 2021-02-01 00:12:50 2021-02-01 00:26:38           -1   \n",
       "5               B00037 2021-02-01 00:00:37 2021-02-01 00:09:35           -1   \n",
       "\n",
       "  DOlocationID SR_Flag Affiliated_base_number   duration  \\\n",
       "1           82    None        B00021           10.666667   \n",
       "2           56    None        B00021           14.566667   \n",
       "3          129    None        B00021            7.950000   \n",
       "4          225    None                 B00037  13.800000   \n",
       "5           61    None                 B00037   8.966667   \n",
       "\n",
       "                                ride_id  \n",
       "1  58838007-ee9e-4e65-bd4a-9c7225d30b81  \n",
       "2  e901a694-6848-4b3d-92d7-5d80cc44defd  \n",
       "3  6d4c53ae-4fae-443c-8ba2-eabfdd1f473f  \n",
       "4  124ffc84-89cd-41ed-b490-50853a734d3c  \n",
       "5  1a239d01-f064-4da5-906b-8a2e095109d4  "
      ]
     },
     "execution_count": 28,
     "metadata": {},
     "output_type": "execute_result"
    }
   ],
   "source": [
    "df_result = pd.DataFrame()\n",
    "df.head()"
   ]
  },
  {
   "cell_type": "code",
   "execution_count": 37,
   "metadata": {},
   "outputs": [],
   "source": [
    "df['ride_id'] = f'{year:04d}/{month:02d}_' + df.index.astype('str')\n",
    "df_result['predicted_duration']=y_pred\n"
   ]
  },
  {
   "cell_type": "code",
   "execution_count": 30,
   "metadata": {},
   "outputs": [],
   "source": [
    "!mkdir output"
   ]
  },
  {
   "cell_type": "code",
   "execution_count": 38,
   "metadata": {},
   "outputs": [],
   "source": [
    "df_result.to_parquet(\n",
    "    '/Users/agvg/Documents/DS/MLOPS/MLOPS/Class 4/February_fhv_tripdata_2021-02.parquet',\n",
    "    engine='pyarrow',\n",
    "    compression=None,\n",
    "    index=False\n",
    ")"
   ]
  },
  {
   "cell_type": "markdown",
   "metadata": {},
   "source": [
    "Q3. Creating the scoring script\n",
    "# pip install nbconvert\n",
    "# pip install jupyter\n",
    "# jupyter nbconvert name.ipynb --to script"
   ]
  },
  {
   "cell_type": "markdown",
   "metadata": {},
   "source": [
    "Q4. Virtual environment\n",
    "\n",
    "\"sha256:02b567e722d62bddd4ac253dafb01ce7ed8742cf8031aea030a41414b86c1125\""
   ]
  },
  {
   "cell_type": "markdown",
   "metadata": {},
   "source": [
    "Q5. Parametrize the script\n",
    "Answer = 16.29"
   ]
  },
  {
   "cell_type": "markdown",
   "metadata": {},
   "source": [
    "Q6. Docker Container\n",
    "\n",
    "Answer 16.55"
   ]
  }
 ],
 "metadata": {
  "interpreter": {
   "hash": "fb87038cbf202022b98f4c1ae0c83d0502971b4d08fa9ee2dcec703af5217ce9"
  },
  "kernelspec": {
   "display_name": "Python 3.9.12 ('exp-tracking-env')",
   "language": "python",
   "name": "python3"
  },
  "language_info": {
   "codemirror_mode": {
    "name": "ipython",
    "version": 3
   },
   "file_extension": ".py",
   "mimetype": "text/x-python",
   "name": "python",
   "nbconvert_exporter": "python",
   "pygments_lexer": "ipython3",
   "version": "3.9.12"
  },
  "orig_nbformat": 4
 },
 "nbformat": 4,
 "nbformat_minor": 2
}
